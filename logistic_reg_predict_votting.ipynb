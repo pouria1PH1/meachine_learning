{
 "cells": [
  {
   "attachments": {},
   "cell_type": "markdown",
   "metadata": {},
   "source": [
    "### description:\n",
    "\n",
    "\n",
    "\n",
    "Building a model to predict the voting of a group of people with random and related data"
   ]
  },
  {
   "attachments": {},
   "cell_type": "markdown",
   "metadata": {},
   "source": [
    "import dependecies"
   ]
  },
  {
   "cell_type": "code",
   "execution_count": 1,
   "metadata": {},
   "outputs": [],
   "source": [
    "import pandas as pd\n",
    "import pylab as pl\n",
    "import numpy as np\n",
    "import scipy.optimize as opt\n",
    "from sklearn import preprocessing\n",
    "import matplotlib.pyplot as plt\n",
    "import random"
   ]
  },
  {
   "attachments": {},
   "cell_type": "markdown",
   "metadata": {},
   "source": [
    "create database"
   ]
  },
  {
   "cell_type": "code",
   "execution_count": 2,
   "metadata": {},
   "outputs": [
    {
     "data": {
      "text/plain": [
       "0    725\n",
       "1    275\n",
       "Name: result, dtype: int64"
      ]
     },
     "execution_count": 2,
     "metadata": {},
     "output_type": "execute_result"
    }
   ],
   "source": [
    "\n",
    "# Generate random ages between 18 and 80\n",
    "ages = np.random.randint(low=18, high=80, size=1000)\n",
    "\n",
    "# Generate random incomes between 0 and 100,000\n",
    "incomes = np.random.randint(1,10, size=1000)\n",
    "\n",
    "\n",
    "# Generate logical values for political affiliation (30% democrat, 30% republican, 40% independent)\n",
    "political_affiliation = np.random.choice(['Democrat', 'Republican', 'Independent'], size=1000, p=[0.3, 0.3, 0.4])\n",
    "\n",
    "\n",
    "\n",
    "# Generate logical values for past voting history (50% yes, 50% no)\n",
    "past_voting_history = np.random.choice([0, 10], size=1000, p=[0.5, 0.5])\n",
    "\n",
    "\n",
    "\n",
    "\n",
    "\n",
    "# Create data frame with the generated data\n",
    "\n",
    "data = {\n",
    "    'age': ages,\n",
    "    'income': incomes,\n",
    "    'past_voting_history': past_voting_history\n",
    "    \n",
    "}\n",
    "\n",
    "r=data[\"age\"]+data['income']*2+data[\"past_voting_history\"]*2\n",
    "\n",
    "\n",
    "\n",
    "result = []\n",
    "for i in range(1000):\n",
    "    \n",
    "    if r.all() < 26:\n",
    "        num = random.choices([0, 1], weights=[0.75, 0.25])[0] # choosing a number randomly with 25% probability of 0 and 75% probability of 1\n",
    "    elif r.all() < 51:\n",
    "        num = random.choices([0, 1], weights=[0.1, 0.5])[0] # choosing a number randomly with 50% probability of 0 and 50% probability of 1\n",
    "    else:\n",
    "        num = random.choices([0, 1], weights=[0.1, 0.9])[0] # choosing a number randomly with 90% probability of 0 and 70% probability of 1\n",
    "    result.append(num)\n",
    "    \n",
    "\n",
    "data[\"result\"]=result\n",
    "\n",
    "df = pd.DataFrame(data)\n",
    "\n",
    "df[\"result\"].value_counts()"
   ]
  },
  {
   "attachments": {},
   "cell_type": "markdown",
   "metadata": {},
   "source": [
    "### split test and  train data"
   ]
  },
  {
   "cell_type": "code",
   "execution_count": 3,
   "metadata": {},
   "outputs": [],
   "source": [
    "# x_data\n",
    "x=np.asarray(df[[\"age\",\"income\",\"past_voting_history\"]])\n",
    "\n",
    "# y_data\n",
    "y=np.asarray(df[[\"result\"]])\n"
   ]
  },
  {
   "cell_type": "code",
   "execution_count": 4,
   "metadata": {},
   "outputs": [
    {
     "data": {
      "text/plain": [
       "array([[-0.18750678,  0.01276435,  1.        ],\n",
       "       [-0.35295394, -0.76083246, -1.        ],\n",
       "       [ 1.63241196,  1.55995795, -1.        ],\n",
       "       [-1.06989163,  0.39956275,  1.        ],\n",
       "       [-0.40810299, -0.76083246,  1.        ]])"
      ]
     },
     "execution_count": 4,
     "metadata": {},
     "output_type": "execute_result"
    }
   ],
   "source": [
    "from sklearn import preprocessing\n",
    "x = preprocessing.StandardScaler().fit(x).transform(x)\n",
    "x[0:5]"
   ]
  },
  {
   "cell_type": "code",
   "execution_count": 5,
   "metadata": {},
   "outputs": [
    {
     "name": "stdout",
     "output_type": "stream",
     "text": [
      "Train set: (800, 3) (800, 1)\n",
      "Test set: (200, 3) (200, 1)\n"
     ]
    }
   ],
   "source": [
    "from sklearn.model_selection import train_test_split\n",
    "X_train, X_test, y_train, y_test = train_test_split( x, y, test_size=0.2, random_state=4)\n",
    "print ('Train set:', X_train.shape,  y_train.shape)\n",
    "print ('Test set:', X_test.shape,  y_test.shape)\n",
    "\n"
   ]
  },
  {
   "attachments": {},
   "cell_type": "markdown",
   "metadata": {},
   "source": [
    "### create Logistic Regression with Scikit-learn"
   ]
  },
  {
   "cell_type": "code",
   "execution_count": 6,
   "metadata": {},
   "outputs": [
    {
     "name": "stderr",
     "output_type": "stream",
     "text": [
      "c:\\Users\\ols\\AppData\\Local\\Programs\\Python\\Python311\\Lib\\site-packages\\sklearn\\utils\\validation.py:1143: DataConversionWarning: A column-vector y was passed when a 1d array was expected. Please change the shape of y to (n_samples, ), for example using ravel().\n",
      "  y = column_or_1d(y, warn=True)\n"
     ]
    },
    {
     "data": {
      "text/html": [
       "<style>#sk-container-id-1 {color: black;background-color: white;}#sk-container-id-1 pre{padding: 0;}#sk-container-id-1 div.sk-toggleable {background-color: white;}#sk-container-id-1 label.sk-toggleable__label {cursor: pointer;display: block;width: 100%;margin-bottom: 0;padding: 0.3em;box-sizing: border-box;text-align: center;}#sk-container-id-1 label.sk-toggleable__label-arrow:before {content: \"▸\";float: left;margin-right: 0.25em;color: #696969;}#sk-container-id-1 label.sk-toggleable__label-arrow:hover:before {color: black;}#sk-container-id-1 div.sk-estimator:hover label.sk-toggleable__label-arrow:before {color: black;}#sk-container-id-1 div.sk-toggleable__content {max-height: 0;max-width: 0;overflow: hidden;text-align: left;background-color: #f0f8ff;}#sk-container-id-1 div.sk-toggleable__content pre {margin: 0.2em;color: black;border-radius: 0.25em;background-color: #f0f8ff;}#sk-container-id-1 input.sk-toggleable__control:checked~div.sk-toggleable__content {max-height: 200px;max-width: 100%;overflow: auto;}#sk-container-id-1 input.sk-toggleable__control:checked~label.sk-toggleable__label-arrow:before {content: \"▾\";}#sk-container-id-1 div.sk-estimator input.sk-toggleable__control:checked~label.sk-toggleable__label {background-color: #d4ebff;}#sk-container-id-1 div.sk-label input.sk-toggleable__control:checked~label.sk-toggleable__label {background-color: #d4ebff;}#sk-container-id-1 input.sk-hidden--visually {border: 0;clip: rect(1px 1px 1px 1px);clip: rect(1px, 1px, 1px, 1px);height: 1px;margin: -1px;overflow: hidden;padding: 0;position: absolute;width: 1px;}#sk-container-id-1 div.sk-estimator {font-family: monospace;background-color: #f0f8ff;border: 1px dotted black;border-radius: 0.25em;box-sizing: border-box;margin-bottom: 0.5em;}#sk-container-id-1 div.sk-estimator:hover {background-color: #d4ebff;}#sk-container-id-1 div.sk-parallel-item::after {content: \"\";width: 100%;border-bottom: 1px solid gray;flex-grow: 1;}#sk-container-id-1 div.sk-label:hover label.sk-toggleable__label {background-color: #d4ebff;}#sk-container-id-1 div.sk-serial::before {content: \"\";position: absolute;border-left: 1px solid gray;box-sizing: border-box;top: 0;bottom: 0;left: 50%;z-index: 0;}#sk-container-id-1 div.sk-serial {display: flex;flex-direction: column;align-items: center;background-color: white;padding-right: 0.2em;padding-left: 0.2em;position: relative;}#sk-container-id-1 div.sk-item {position: relative;z-index: 1;}#sk-container-id-1 div.sk-parallel {display: flex;align-items: stretch;justify-content: center;background-color: white;position: relative;}#sk-container-id-1 div.sk-item::before, #sk-container-id-1 div.sk-parallel-item::before {content: \"\";position: absolute;border-left: 1px solid gray;box-sizing: border-box;top: 0;bottom: 0;left: 50%;z-index: -1;}#sk-container-id-1 div.sk-parallel-item {display: flex;flex-direction: column;z-index: 1;position: relative;background-color: white;}#sk-container-id-1 div.sk-parallel-item:first-child::after {align-self: flex-end;width: 50%;}#sk-container-id-1 div.sk-parallel-item:last-child::after {align-self: flex-start;width: 50%;}#sk-container-id-1 div.sk-parallel-item:only-child::after {width: 0;}#sk-container-id-1 div.sk-dashed-wrapped {border: 1px dashed gray;margin: 0 0.4em 0.5em 0.4em;box-sizing: border-box;padding-bottom: 0.4em;background-color: white;}#sk-container-id-1 div.sk-label label {font-family: monospace;font-weight: bold;display: inline-block;line-height: 1.2em;}#sk-container-id-1 div.sk-label-container {text-align: center;}#sk-container-id-1 div.sk-container {/* jupyter's `normalize.less` sets `[hidden] { display: none; }` but bootstrap.min.css set `[hidden] { display: none !important; }` so we also need the `!important` here to be able to override the default hidden behavior on the sphinx rendered scikit-learn.org. See: https://github.com/scikit-learn/scikit-learn/issues/21755 */display: inline-block !important;position: relative;}#sk-container-id-1 div.sk-text-repr-fallback {display: none;}</style><div id=\"sk-container-id-1\" class=\"sk-top-container\"><div class=\"sk-text-repr-fallback\"><pre>LogisticRegression(C=0.01, solver=&#x27;liblinear&#x27;)</pre><b>In a Jupyter environment, please rerun this cell to show the HTML representation or trust the notebook. <br />On GitHub, the HTML representation is unable to render, please try loading this page with nbviewer.org.</b></div><div class=\"sk-container\" hidden><div class=\"sk-item\"><div class=\"sk-estimator sk-toggleable\"><input class=\"sk-toggleable__control sk-hidden--visually\" id=\"sk-estimator-id-1\" type=\"checkbox\" checked><label for=\"sk-estimator-id-1\" class=\"sk-toggleable__label sk-toggleable__label-arrow\">LogisticRegression</label><div class=\"sk-toggleable__content\"><pre>LogisticRegression(C=0.01, solver=&#x27;liblinear&#x27;)</pre></div></div></div></div></div>"
      ],
      "text/plain": [
       "LogisticRegression(C=0.01, solver='liblinear')"
      ]
     },
     "execution_count": 6,
     "metadata": {},
     "output_type": "execute_result"
    }
   ],
   "source": [
    "from sklearn.linear_model import LogisticRegression\n",
    "from sklearn.metrics import confusion_matrix\n",
    "LR = LogisticRegression(C=0.01, solver='liblinear').fit(X_train,y_train)\n",
    "LR"
   ]
  },
  {
   "attachments": {},
   "cell_type": "markdown",
   "metadata": {},
   "source": [
    "### predict  data"
   ]
  },
  {
   "cell_type": "code",
   "execution_count": 7,
   "metadata": {},
   "outputs": [
    {
     "name": "stdout",
     "output_type": "stream",
     "text": [
      "[0 0 0 0 0] [[0]\n",
      " [1]\n",
      " [0]\n",
      " [0]\n",
      " [1]]\n"
     ]
    }
   ],
   "source": [
    "yhat = LR.predict(X_test)\n",
    "print(yhat[:5],\n",
    "y_test[:5])"
   ]
  },
  {
   "attachments": {},
   "cell_type": "markdown",
   "metadata": {},
   "source": [
    "### predict for  probability"
   ]
  },
  {
   "cell_type": "code",
   "execution_count": 8,
   "metadata": {},
   "outputs": [
    {
     "data": {
      "text/plain": [
       "array([[0.6498868 , 0.3501132 ],\n",
       "       [0.63623026, 0.36376974],\n",
       "       [0.66938954, 0.33061046],\n",
       "       [0.6130709 , 0.3869291 ],\n",
       "       [0.65003469, 0.34996531],\n",
       "       [0.63910245, 0.36089755],\n",
       "       [0.65695227, 0.34304773],\n",
       "       [0.62449329, 0.37550671],\n",
       "       [0.65169638, 0.34830362],\n",
       "       [0.65219418, 0.34780582],\n",
       "       [0.63342375, 0.36657625],\n",
       "       [0.65219418, 0.34780582],\n",
       "       [0.6367065 , 0.3632935 ],\n",
       "       [0.67378594, 0.32621406],\n",
       "       [0.60533363, 0.39466637],\n",
       "       [0.65033038, 0.34966962],\n",
       "       [0.67712259, 0.32287741],\n",
       "       [0.64108655, 0.35891345],\n",
       "       [0.6592375 , 0.3407625 ],\n",
       "       [0.66156385, 0.33843615],\n",
       "       [0.63301489, 0.36698511],\n",
       "       [0.65873234, 0.34126766],\n",
       "       [0.63838377, 0.36161623],\n",
       "       [0.61054945, 0.38945055],\n",
       "       [0.66428117, 0.33571883],\n",
       "       [0.6531949 , 0.3468051 ],\n",
       "       [0.63956459, 0.36043541],\n",
       "       [0.67523678, 0.32476322],\n",
       "       [0.66305395, 0.33694605],\n",
       "       [0.66645805, 0.33354195],\n",
       "       [0.65634165, 0.34365835],\n",
       "       [0.65579776, 0.34420224],\n",
       "       [0.62292964, 0.37707036],\n",
       "       [0.64691694, 0.35308306],\n",
       "       [0.66422681, 0.33577319],\n",
       "       [0.64883847, 0.35116153],\n",
       "       [0.60849963, 0.39150037],\n",
       "       [0.66997666, 0.33002334],\n",
       "       [0.64432681, 0.35567319],\n",
       "       [0.67378594, 0.32621406],\n",
       "       [0.66096933, 0.33903067],\n",
       "       [0.63125776, 0.36874224],\n",
       "       [0.66718013, 0.33281987],\n",
       "       [0.64047561, 0.35952439],\n",
       "       [0.63002127, 0.36997873],\n",
       "       [0.6353146 , 0.3646854 ],\n",
       "       [0.67712259, 0.32287741],\n",
       "       [0.64944297, 0.35055703],\n",
       "       [0.61980742, 0.38019258],\n",
       "       [0.66719214, 0.33280786],\n",
       "       [0.67973417, 0.32026583],\n",
       "       [0.64823348, 0.35176652],\n",
       "       [0.67012037, 0.32987963],\n",
       "       [0.63971441, 0.36028559],\n",
       "       [0.6313145 , 0.3686855 ],\n",
       "       [0.64540602, 0.35459398],\n",
       "       [0.65459854, 0.34540146],\n",
       "       [0.66590998, 0.33409002],\n",
       "       [0.65234162, 0.34765838],\n",
       "       [0.64852987, 0.35147013],\n",
       "       [0.65038581, 0.34961419],\n",
       "       [0.62366092, 0.37633908],\n",
       "       [0.66899983, 0.33100017],\n",
       "       [0.64432681, 0.35567319],\n",
       "       [0.63465546, 0.36534454],\n",
       "       [0.63910245, 0.36089755],\n",
       "       [0.64554239, 0.35445761],\n",
       "       [0.6678233 , 0.3321767 ],\n",
       "       [0.65033038, 0.34966962],\n",
       "       [0.65650046, 0.34349954],\n",
       "       [0.64913462, 0.35086538],\n",
       "       [0.66556644, 0.33443356],\n",
       "       [0.62677056, 0.37322944],\n",
       "       [0.65351384, 0.34648616],\n",
       "       [0.64555477, 0.35444523],\n",
       "       [0.66235777, 0.33764223],\n",
       "       [0.63883382, 0.36116618],\n",
       "       [0.63140905, 0.36859095],\n",
       "       [0.63802731, 0.36197269],\n",
       "       [0.62677056, 0.37322944],\n",
       "       [0.66540969, 0.33459031],\n",
       "       [0.66082365, 0.33917635],\n",
       "       [0.64113019, 0.35886981],\n",
       "       [0.64169703, 0.35830297],\n",
       "       [0.64236306, 0.35763694],\n",
       "       [0.68160618, 0.31839382],\n",
       "       [0.62543278, 0.37456722],\n",
       "       [0.64175308, 0.35824692],\n",
       "       [0.64463708, 0.35536292],\n",
       "       [0.62729626, 0.37270374],\n",
       "       [0.6097635 , 0.3902365 ],\n",
       "       [0.66865789, 0.33134211],\n",
       "       [0.63157291, 0.36842709],\n",
       "       [0.6351075 , 0.3648925 ],\n",
       "       [0.62986974, 0.37013026],\n",
       "       [0.65414526, 0.34585474],\n",
       "       [0.6371136 , 0.3628864 ],\n",
       "       [0.67071878, 0.32928122],\n",
       "       [0.63468689, 0.36531311],\n",
       "       [0.62867561, 0.37132439],\n",
       "       [0.62428368, 0.37571632],\n",
       "       [0.63219029, 0.36780971],\n",
       "       [0.65893323, 0.34106677],\n",
       "       [0.61976272, 0.38023728],\n",
       "       [0.67770259, 0.32229741],\n",
       "       [0.61211963, 0.38788037],\n",
       "       [0.64524486, 0.35475514],\n",
       "       [0.67276122, 0.32723878],\n",
       "       [0.64077491, 0.35922509],\n",
       "       [0.62371814, 0.37628186],\n",
       "       [0.63449218, 0.36550782],\n",
       "       [0.68001712, 0.31998288],\n",
       "       [0.64032592, 0.35967408],\n",
       "       [0.64356923, 0.35643077],\n",
       "       [0.65828165, 0.34171835],\n",
       "       [0.65740379, 0.34259621],\n",
       "       [0.64600084, 0.35399916],\n",
       "       [0.65534523, 0.34465477],\n",
       "       [0.64214527, 0.35785473],\n",
       "       [0.63899627, 0.36100373],\n",
       "       [0.67943931, 0.32056069],\n",
       "       [0.62350835, 0.37649165],\n",
       "       [0.65414526, 0.34585474],\n",
       "       [0.65019485, 0.34980515],\n",
       "       [0.66983292, 0.33016708],\n",
       "       [0.63387643, 0.36612357],\n",
       "       [0.61558629, 0.38441371],\n",
       "       [0.6458088 , 0.3541912 ],\n",
       "       [0.60880929, 0.39119071],\n",
       "       [0.65244602, 0.34755398],\n",
       "       [0.62791659, 0.37208341],\n",
       "       [0.61039488, 0.38960512],\n",
       "       [0.67217663, 0.32782337],\n",
       "       [0.64554239, 0.35445761],\n",
       "       [0.66650021, 0.33349979],\n",
       "       [0.6124411 , 0.3875589 ],\n",
       "       [0.67203338, 0.32796662],\n",
       "       [0.59833757, 0.40166243],\n",
       "       [0.65546142, 0.34453858],\n",
       "       [0.65579776, 0.34420224],\n",
       "       [0.62200039, 0.37799961],\n",
       "       [0.6587445 , 0.3412555 ],\n",
       "       [0.66260605, 0.33739395],\n",
       "       [0.64737458, 0.35262542],\n",
       "       [0.65325012, 0.34674988],\n",
       "       [0.67290431, 0.32709569],\n",
       "       [0.63363126, 0.36636874],\n",
       "       [0.63680046, 0.36319954],\n",
       "       [0.68088867, 0.31911133],\n",
       "       [0.65889061, 0.34110939],\n",
       "       [0.60596755, 0.39403245],\n",
       "       [0.66116959, 0.33883041],\n",
       "       [0.66719214, 0.33280786],\n",
       "       [0.61668804, 0.38331196],\n",
       "       [0.64595747, 0.35404253],\n",
       "       [0.62677056, 0.37322944],\n",
       "       [0.67814019, 0.32185981],\n",
       "       [0.6476713 , 0.3523287 ],\n",
       "       [0.66546396, 0.33453604],\n",
       "       [0.65739161, 0.34260839],\n",
       "       [0.66938954, 0.33061046],\n",
       "       [0.66161842, 0.33838158],\n",
       "       [0.63378214, 0.36621786],\n",
       "       [0.61039488, 0.38960512],\n",
       "       [0.66851386, 0.33148614],\n",
       "       [0.66481851, 0.33518149],\n",
       "       [0.64549899, 0.35450101],\n",
       "       [0.64629808, 0.35370192],\n",
       "       [0.64614947, 0.35385053],\n",
       "       [0.60865448, 0.39134552],\n",
       "       [0.62971819, 0.37028181],\n",
       "       [0.65740379, 0.34259621],\n",
       "       [0.63955211, 0.36044789],\n",
       "       [0.63777083, 0.36222917],\n",
       "       [0.62475364, 0.37524636],\n",
       "       [0.68160618, 0.31839382],\n",
       "       [0.67871923, 0.32128077],\n",
       "       [0.66468571, 0.33531429],\n",
       "       [0.64093697, 0.35906303],\n",
       "       [0.62428368, 0.37571632],\n",
       "       [0.63295826, 0.36704174],\n",
       "       [0.6401762 , 0.3598238 ],\n",
       "       [0.60088639, 0.39911361],\n",
       "       [0.64433921, 0.35566079],\n",
       "       [0.66644602, 0.33355398],\n",
       "       [0.61448335, 0.38551665],\n",
       "       [0.63069651, 0.36930349],\n",
       "       [0.64751061, 0.35248939],\n",
       "       [0.64312178, 0.35687822],\n",
       "       [0.64872124, 0.35127876],\n",
       "       [0.62743557, 0.37256443],\n",
       "       [0.63699464, 0.36300536],\n",
       "       [0.6485731 , 0.3514269 ],\n",
       "       [0.64867802, 0.35132198],\n",
       "       [0.59897528, 0.40102472],\n",
       "       [0.65200369, 0.34799631],\n",
       "       [0.63202655, 0.36797345],\n",
       "       [0.65003469, 0.34996531],\n",
       "       [0.62791659, 0.37208341],\n",
       "       [0.65033038, 0.34966962]])"
      ]
     },
     "execution_count": 8,
     "metadata": {},
     "output_type": "execute_result"
    }
   ],
   "source": [
    "yhat_prob = LR.predict_proba(X_test)\n",
    "yhat_prob"
   ]
  },
  {
   "attachments": {},
   "cell_type": "markdown",
   "metadata": {},
   "source": [
    "### Evaluation"
   ]
  },
  {
   "cell_type": "code",
   "execution_count": 9,
   "metadata": {},
   "outputs": [
    {
     "data": {
      "text/plain": [
       "0.745"
      ]
     },
     "execution_count": 9,
     "metadata": {},
     "output_type": "execute_result"
    }
   ],
   "source": [
    "from sklearn.metrics import jaccard_score\n",
    "jaccard_score(y_test, yhat,pos_label=0)"
   ]
  },
  {
   "cell_type": "code",
   "execution_count": 10,
   "metadata": {},
   "outputs": [
    {
     "name": "stdout",
     "output_type": "stream",
     "text": [
      "[[  0  51]\n",
      " [  0 149]]\n"
     ]
    }
   ],
   "source": [
    "from sklearn.metrics import classification_report, confusion_matrix\n",
    "import itertools\n",
    "def plot_confusion_matrix(cm, classes,\n",
    "                          normalize=False,\n",
    "                          title='Confusion matrix',\n",
    "                          cmap=plt.cm.Blues):\n",
    "    \"\"\"\n",
    "    This function prints and plots the confusion matrix.\n",
    "    Normalization can be applied by setting `normalize=True`.\n",
    "    \"\"\"\n",
    "    if normalize:\n",
    "        cm = cm.astype('float') / cm.sum(axis=1)[:, np.newaxis]\n",
    "        print(\"Normalized confusion matrix\")\n",
    "    else:\n",
    "        print('Confusion matrix, without normalization')\n",
    "\n",
    "    print(cm)\n",
    "\n",
    "    plt.imshow(cm, interpolation='nearest', cmap=cmap)\n",
    "    plt.title(title)\n",
    "    plt.colorbar()\n",
    "    tick_marks = np.arange(len(classes))\n",
    "    plt.xticks(tick_marks, classes, rotation=45)\n",
    "    plt.yticks(tick_marks, classes)\n",
    "\n",
    "    fmt = '.2f' if normalize else 'd'\n",
    "    thresh = cm.max() / 2.\n",
    "    for i, j in itertools.product(range(cm.shape[0]), range(cm.shape[1])):\n",
    "        plt.text(j, i, format(cm[i, j], fmt),\n",
    "                 horizontalalignment=\"center\",\n",
    "                 color=\"white\" if cm[i, j] > thresh else \"black\")\n",
    "\n",
    "    plt.tight_layout()\n",
    "    plt.ylabel('True label')\n",
    "    plt.xlabel('Predicted label')\n",
    "print(confusion_matrix(y_test, yhat, labels=[1,0]))"
   ]
  },
  {
   "cell_type": "code",
   "execution_count": 11,
   "metadata": {},
   "outputs": [
    {
     "name": "stdout",
     "output_type": "stream",
     "text": [
      "Confusion matrix, without normalization\n",
      "[[  0  51]\n",
      " [  0 149]]\n"
     ]
    },
    {
     "data": {
      "image/png": "[encoded data removed]",
      "text/plain": [
       "<Figure size 640x480 with 2 Axes>"
      ]
     },
     "metadata": {},
     "output_type": "display_data"
    }
   ],
   "source": [
    "# Compute confusion matrix\n",
    "cnf_matrix = confusion_matrix(y_test, yhat, labels=[1,0])\n",
    "np.set_printoptions(precision=2)\n",
    "\n",
    "\n",
    "# Plot non-normalized confusion matrix\n",
    "plt.figure()\n",
    "plot_confusion_matrix(cnf_matrix, classes=['churn=1','churn=0'],normalize= False,  title='Confusion matrix')"
   ]
  }
 ],
 "metadata": {
  "kernelspec": {
   "display_name": "Python 3",
   "language": "python",
   "name": "python3"
  },
  "language_info": {
   "codemirror_mode": {
    "name": "ipython",
    "version": 3
   },
   "file_extension": ".py",
   "mimetype": "text/x-python",
   "name": "python",
   "nbconvert_exporter": "python",
   "pygments_lexer": "ipython3",
   "version": "3.11.1"
  },
  "orig_nbformat": 4
 },
 "nbformat": 4,
 "nbformat_minor": 2
}
