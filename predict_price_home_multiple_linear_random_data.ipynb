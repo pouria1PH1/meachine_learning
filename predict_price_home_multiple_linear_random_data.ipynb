{
 "cells": [
  {
   "attachments": {},
   "cell_type": "markdown",
   "metadata": {},
   "source": [
    "import dependencies"
   ]
  },
  {
   "cell_type": "code",
   "execution_count": 15,
   "metadata": {},
   "outputs": [],
   "source": [
    "import pandas as pd\n",
    "import numpy as np\n",
    "from datetime import datetime, timedelta\n",
    "import random\n",
    "import datetime\n",
    "import matplotlib.pyplot as plt\n",
    "import pylab as pl\n",
    "from statsmodels import api as sm\n",
    "from sklearn import linear_model\n",
    "regr=linear_model.LinearRegression()\n",
    "from sklearn.metrics import r2_score\n",
    "\n"
   ]
  },
  {
   "attachments": {},
   "cell_type": "markdown",
   "metadata": {},
   "source": [
    "create random date "
   ]
  },
  {
   "cell_type": "code",
   "execution_count": 16,
   "metadata": {},
   "outputs": [],
   "source": [
    "start_year = 2000\n",
    "end_year = 2023\n",
    "number_home = random.randint(1000,2000)\n",
    "\n",
    "dates = []\n",
    "\n",
    "for i in range(number_home):\n",
    "    # Generate a random year, month, and day\n",
    "    date = datetime.date(random.randint(start_year, end_year), random.randint(1, 12), random.randint(1, 28))\n",
    "    dates.append(date)\n",
    "\n",
    "\n",
    "\n"
   ]
  },
  {
   "attachments": {},
   "cell_type": "markdown",
   "metadata": {},
   "source": [
    "    create price data acording rooms and meterag"
   ]
  },
  {
   "cell_type": "code",
   "execution_count": 17,
   "metadata": {},
   "outputs": [],
   "source": [
    "# # Set the random seed for reproducibility\n",
    "# np.random.seed(000)\n",
    "\n",
    "# Create an array of (number_home)  random integers between 1 and 5 for the number of rooms\n",
    "rooms = np.random.randint(1, 6, size=number_home)\n",
    "\n",
    "# Create an array of (number_home)  random integers between 50 and 200 for the square meterage\n",
    "meterage = np.random.randint(50, 201, size=number_home)\n",
    "\n",
    "# Calculate a random but realistic price for each home based on the number of rooms and square meterage\n",
    "price = np.round((meterage * 1000 * rooms) * (1 + np.random.normal(0, 0.2, size=number_home)))\n",
    "\n",
    "# Create a dictionary with the three arrays\n",
    "prices_data = {'rooms': rooms, 'meterage': meterage, 'price': price ,\"dates\":dates}\n"
   ]
  },
  {
   "attachments": {},
   "cell_type": "markdown",
   "metadata": {},
   "source": [
    "generate name home\n"
   ]
  },
  {
   "cell_type": "code",
   "execution_count": 18,
   "metadata": {},
   "outputs": [],
   "source": [
    "\n",
    "def g_h():\n",
    "    list_home=[]\n",
    "    for num  in range(number_home):\n",
    "        list_home+=[\"home \"+str(num)]\n",
    "    return list_home"
   ]
  },
  {
   "attachments": {},
   "cell_type": "markdown",
   "metadata": {},
   "source": [
    "generate data frame"
   ]
  },
  {
   "cell_type": "code",
   "execution_count": 19,
   "metadata": {},
   "outputs": [
    {
     "data": {
      "text/html": [
       "<div>\n",
       "<style scoped>\n",
       "    .dataframe tbody tr th:only-of-type {\n",
       "        vertical-align: middle;\n",
       "    }\n",
       "\n",
       "    .dataframe tbody tr th {\n",
       "        vertical-align: top;\n",
       "    }\n",
       "\n",
       "    .dataframe thead th {\n",
       "        text-align: right;\n",
       "    }\n",
       "</style>\n",
       "<table border=\"1\" class=\"dataframe\">\n",
       "  <thead>\n",
       "    <tr style=\"text-align: right;\">\n",
       "      <th></th>\n",
       "      <th>rooms</th>\n",
       "      <th>meterage</th>\n",
       "      <th>price</th>\n",
       "      <th>dates</th>\n",
       "    </tr>\n",
       "  </thead>\n",
       "  <tbody>\n",
       "    <tr>\n",
       "      <th>home 0</th>\n",
       "      <td>5</td>\n",
       "      <td>179</td>\n",
       "      <td>961229.0</td>\n",
       "      <td>2017-08-04</td>\n",
       "    </tr>\n",
       "    <tr>\n",
       "      <th>home 1</th>\n",
       "      <td>3</td>\n",
       "      <td>168</td>\n",
       "      <td>444985.0</td>\n",
       "      <td>2023-09-10</td>\n",
       "    </tr>\n",
       "    <tr>\n",
       "      <th>home 2</th>\n",
       "      <td>3</td>\n",
       "      <td>148</td>\n",
       "      <td>464643.0</td>\n",
       "      <td>2007-06-27</td>\n",
       "    </tr>\n",
       "    <tr>\n",
       "      <th>home 3</th>\n",
       "      <td>2</td>\n",
       "      <td>190</td>\n",
       "      <td>340939.0</td>\n",
       "      <td>2014-06-09</td>\n",
       "    </tr>\n",
       "    <tr>\n",
       "      <th>home 4</th>\n",
       "      <td>4</td>\n",
       "      <td>106</td>\n",
       "      <td>488340.0</td>\n",
       "      <td>2012-03-01</td>\n",
       "    </tr>\n",
       "    <tr>\n",
       "      <th>...</th>\n",
       "      <td>...</td>\n",
       "      <td>...</td>\n",
       "      <td>...</td>\n",
       "      <td>...</td>\n",
       "    </tr>\n",
       "    <tr>\n",
       "      <th>home 1249</th>\n",
       "      <td>3</td>\n",
       "      <td>147</td>\n",
       "      <td>619706.0</td>\n",
       "      <td>2001-05-22</td>\n",
       "    </tr>\n",
       "    <tr>\n",
       "      <th>home 1250</th>\n",
       "      <td>4</td>\n",
       "      <td>136</td>\n",
       "      <td>527113.0</td>\n",
       "      <td>2001-01-17</td>\n",
       "    </tr>\n",
       "    <tr>\n",
       "      <th>home 1251</th>\n",
       "      <td>1</td>\n",
       "      <td>103</td>\n",
       "      <td>89515.0</td>\n",
       "      <td>2006-01-21</td>\n",
       "    </tr>\n",
       "    <tr>\n",
       "      <th>home 1252</th>\n",
       "      <td>3</td>\n",
       "      <td>200</td>\n",
       "      <td>629404.0</td>\n",
       "      <td>2010-01-26</td>\n",
       "    </tr>\n",
       "    <tr>\n",
       "      <th>home 1253</th>\n",
       "      <td>5</td>\n",
       "      <td>136</td>\n",
       "      <td>682944.0</td>\n",
       "      <td>2022-12-26</td>\n",
       "    </tr>\n",
       "  </tbody>\n",
       "</table>\n",
       "<p>1254 rows × 4 columns</p>\n",
       "</div>"
      ],
      "text/plain": [
       "           rooms  meterage     price       dates\n",
       "home 0         5       179  961229.0  2017-08-04\n",
       "home 1         3       168  444985.0  2023-09-10\n",
       "home 2         3       148  464643.0  2007-06-27\n",
       "home 3         2       190  340939.0  2014-06-09\n",
       "home 4         4       106  488340.0  2012-03-01\n",
       "...          ...       ...       ...         ...\n",
       "home 1249      3       147  619706.0  2001-05-22\n",
       "home 1250      4       136  527113.0  2001-01-17\n",
       "home 1251      1       103   89515.0  2006-01-21\n",
       "home 1252      3       200  629404.0  2010-01-26\n",
       "home 1253      5       136  682944.0  2022-12-26\n",
       "\n",
       "[1254 rows x 4 columns]"
      ]
     },
     "execution_count": 19,
     "metadata": {},
     "output_type": "execute_result"
    }
   ],
   "source": [
    "\n",
    "df = pd.DataFrame(prices_data,index=g_h())\n",
    "df"
   ]
  },
  {
   "attachments": {},
   "cell_type": "markdown",
   "metadata": {},
   "source": [
    "select date:\n",
    "range: 2005-01-01:2022-01-31"
   ]
  },
  {
   "cell_type": "code",
   "execution_count": 20,
   "metadata": {},
   "outputs": [
    {
     "data": {
      "text/html": [
       "<div>\n",
       "<style scoped>\n",
       "    .dataframe tbody tr th:only-of-type {\n",
       "        vertical-align: middle;\n",
       "    }\n",
       "\n",
       "    .dataframe tbody tr th {\n",
       "        vertical-align: top;\n",
       "    }\n",
       "\n",
       "    .dataframe thead th {\n",
       "        text-align: right;\n",
       "    }\n",
       "</style>\n",
       "<table border=\"1\" class=\"dataframe\">\n",
       "  <thead>\n",
       "    <tr style=\"text-align: right;\">\n",
       "      <th></th>\n",
       "      <th>rooms</th>\n",
       "      <th>meterage</th>\n",
       "      <th>price</th>\n",
       "      <th>dates</th>\n",
       "    </tr>\n",
       "  </thead>\n",
       "  <tbody>\n",
       "    <tr>\n",
       "      <th>home 0</th>\n",
       "      <td>5</td>\n",
       "      <td>179</td>\n",
       "      <td>961229.0</td>\n",
       "      <td>2017-08-04</td>\n",
       "    </tr>\n",
       "    <tr>\n",
       "      <th>home 2</th>\n",
       "      <td>3</td>\n",
       "      <td>148</td>\n",
       "      <td>464643.0</td>\n",
       "      <td>2007-06-27</td>\n",
       "    </tr>\n",
       "    <tr>\n",
       "      <th>home 3</th>\n",
       "      <td>2</td>\n",
       "      <td>190</td>\n",
       "      <td>340939.0</td>\n",
       "      <td>2014-06-09</td>\n",
       "    </tr>\n",
       "    <tr>\n",
       "      <th>home 4</th>\n",
       "      <td>4</td>\n",
       "      <td>106</td>\n",
       "      <td>488340.0</td>\n",
       "      <td>2012-03-01</td>\n",
       "    </tr>\n",
       "    <tr>\n",
       "      <th>home 5</th>\n",
       "      <td>4</td>\n",
       "      <td>176</td>\n",
       "      <td>685116.0</td>\n",
       "      <td>2012-11-09</td>\n",
       "    </tr>\n",
       "    <tr>\n",
       "      <th>...</th>\n",
       "      <td>...</td>\n",
       "      <td>...</td>\n",
       "      <td>...</td>\n",
       "      <td>...</td>\n",
       "    </tr>\n",
       "    <tr>\n",
       "      <th>home 1245</th>\n",
       "      <td>1</td>\n",
       "      <td>76</td>\n",
       "      <td>93684.0</td>\n",
       "      <td>2016-07-27</td>\n",
       "    </tr>\n",
       "    <tr>\n",
       "      <th>home 1246</th>\n",
       "      <td>2</td>\n",
       "      <td>75</td>\n",
       "      <td>104488.0</td>\n",
       "      <td>2012-11-18</td>\n",
       "    </tr>\n",
       "    <tr>\n",
       "      <th>home 1247</th>\n",
       "      <td>3</td>\n",
       "      <td>112</td>\n",
       "      <td>331191.0</td>\n",
       "      <td>2011-08-23</td>\n",
       "    </tr>\n",
       "    <tr>\n",
       "      <th>home 1251</th>\n",
       "      <td>1</td>\n",
       "      <td>103</td>\n",
       "      <td>89515.0</td>\n",
       "      <td>2006-01-21</td>\n",
       "    </tr>\n",
       "    <tr>\n",
       "      <th>home 1252</th>\n",
       "      <td>3</td>\n",
       "      <td>200</td>\n",
       "      <td>629404.0</td>\n",
       "      <td>2010-01-26</td>\n",
       "    </tr>\n",
       "  </tbody>\n",
       "</table>\n",
       "<p>884 rows × 4 columns</p>\n",
       "</div>"
      ],
      "text/plain": [
       "           rooms  meterage     price      dates\n",
       "home 0         5       179  961229.0 2017-08-04\n",
       "home 2         3       148  464643.0 2007-06-27\n",
       "home 3         2       190  340939.0 2014-06-09\n",
       "home 4         4       106  488340.0 2012-03-01\n",
       "home 5         4       176  685116.0 2012-11-09\n",
       "...          ...       ...       ...        ...\n",
       "home 1245      1        76   93684.0 2016-07-27\n",
       "home 1246      2        75  104488.0 2012-11-18\n",
       "home 1247      3       112  331191.0 2011-08-23\n",
       "home 1251      1       103   89515.0 2006-01-21\n",
       "home 1252      3       200  629404.0 2010-01-26\n",
       "\n",
       "[884 rows x 4 columns]"
      ]
     },
     "execution_count": 20,
     "metadata": {},
     "output_type": "execute_result"
    }
   ],
   "source": [
    "\n",
    "\n",
    "df['dates'] = pd.to_datetime(df['dates'])\n",
    "\n",
    "# Select dates range\n",
    "start_date = '2005-01-01'\n",
    "end_date = '2022-01-31'\n",
    "mask = (df['dates'] >= start_date) & (df['dates'] <= end_date)\n",
    "df = df[mask]\n",
    "df\n"
   ]
  },
  {
   "attachments": {},
   "cell_type": "markdown",
   "metadata": {},
   "source": [
    "### split  train  and  test  data :80_20%"
   ]
  },
  {
   "cell_type": "code",
   "execution_count": 21,
   "metadata": {},
   "outputs": [],
   "source": [
    "boolean_80t=np.random.rand(len(df))<=0.8\n",
    "train_data=df[boolean_80t]\n",
    "test_data=df[~boolean_80t]\n",
    "\n",
    "x=test_data\n",
    "\n"
   ]
  },
  {
   "attachments": {},
   "cell_type": "markdown",
   "metadata": {},
   "source": [
    "create linear model "
   ]
  },
  {
   "cell_type": "code",
   "execution_count": 22,
   "metadata": {},
   "outputs": [
    {
     "name": "stdout",
     "output_type": "stream",
     "text": [
      "coefficients: [[121487.59670064   3080.21347287]]\n",
      "intercept: [-375269.21608171]\n"
     ]
    }
   ],
   "source": [
    "train_x=np.asanyarray(train_data[[\"rooms\",\"meterage\"]])\n",
    "train_y=np.asanyarray(train_data[[\"price\"]])\n",
    "regr.fit(train_x,train_y)\n",
    "print(\"coefficients:\",regr.coef_)\n",
    "print(\"intercept:\",regr.intercept_)\n"
   ]
  },
  {
   "attachments": {},
   "cell_type": "markdown",
   "metadata": {},
   "source": [
    "compare train model with  real  data   and predic  data and evaluation"
   ]
  },
  {
   "cell_type": "code",
   "execution_count": null,
   "metadata": {},
   "outputs": [],
   "source": [
    "y_predicted=regr.predict(test_data[[\"rooms\",\"meterage\"]])\n",
    "real_test_y=np.asanyarray(test_data[[\"price\"]])\n",
    "x_test = np.asanyarray(test_data[[\"rooms\",\"meterage\"]])\n",
    "\n",
    "\n",
    "print(\"R2-score: %.2f\" % r2_score(real_test_y,y_predicted) )"
   ]
  }
 ],
 "metadata": {
  "kernelspec": {
   "display_name": "Python 3",
   "language": "python",
   "name": "python3"
  },
  "language_info": {
   "codemirror_mode": {
    "name": "ipython",
    "version": 3
   },
   "file_extension": ".py",
   "mimetype": "text/x-python",
   "name": "python",
   "nbconvert_exporter": "python",
   "pygments_lexer": "ipython3",
   "version": "3.11.1"
  },
  "orig_nbformat": 4,
  "vscode": {
   "interpreter": {
    "hash": "2939361a5f8260e2702518cb54d42e20d8d96dc4d599a038b5def83718c47ccc"
   }
  }
 },
 "nbformat": 4,
 "nbformat_minor": 2
}
